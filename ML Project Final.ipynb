{
 "cells": [
  {
   "cell_type": "code",
   "execution_count": 1,
   "id": "b87bb640",
   "metadata": {},
   "outputs": [],
   "source": [
    "import csv\n",
    "import pandas as pd  \n",
    "import numpy as np\n",
    "import re\n",
    "from sklearn import preprocessing\n",
    "from sklearn.utils import shuffle\n",
    "from sklearn.model_selection import train_test_split\n",
    "from sklearn.multioutput import MultiOutputClassifier\n",
    "from sklearn.ensemble import RandomForestClassifier\n",
    "from sklearn.metrics import accuracy_score\n",
    "import matplotlib.pyplot as plt \n",
    "import seaborn as sn\n",
    "from sklearn.metrics import confusion_matrix\n",
    "from sklearn.svm import SVC\n",
    "from sklearn.model_selection import GridSearchCV\n",
    "from sklearn.model_selection import RandomizedSearchCV\n",
    "from sklearn.ensemble import RandomForestRegressor\n",
    "from sklearn.metrics import classification_report\n",
    "\n",
    "\n",
    "\n",
    "import warnings\n",
    "\n",
    "from sklearn.tree import DecisionTreeClassifier\n",
    "warnings.filterwarnings(\"ignore\") "
   ]
  },
  {
   "cell_type": "markdown",
   "id": "af574aaf",
   "metadata": {},
   "source": [
    "# 1. Reading CSV Files\n",
    "#### Read all 4 files."
   ]
  },
  {
   "cell_type": "code",
   "execution_count": 2,
   "id": "c52a0415",
   "metadata": {},
   "outputs": [],
   "source": [
    "#1)Read CSV File: OPEL\n",
    "df_opel = pd.read_csv('data/opel_corsa_01.csv', sep=\";\")\n",
    "df_opel = df_opel.rename(columns = {'drivingStyle,,,,,,,,,,': 'drivingStyle'})\n",
    "df_opel_2 = pd.read_csv('data/opel_corsa_02.csv', sep=\";\")\n",
    "df_peugeot = pd.read_csv('data/peugeot_207_01.csv', sep=\";\")\n",
    "df_peugeot_2 = pd.read_csv('data/peugeot_207_02.csv', sep=\";\")"
   ]
  },
  {
   "cell_type": "markdown",
   "id": "466c80ec",
   "metadata": {},
   "source": [
    "# 2. Sanitization\n",
    "    1) Adding spaces and capitalization to the headers.\n",
    "    2) Removing unwanted strings from labels & Ading capitalization and spaces.\n",
    "    3) Replacing features decimal commas with decimal points.\n",
    "    4) Remove NaN's"
   ]
  },
  {
   "cell_type": "markdown",
   "id": "9c0776f6",
   "metadata": {},
   "source": [
    "### 2.1 Concatenate and shuffle the data "
   ]
  },
  {
   "cell_type": "code",
   "execution_count": 3,
   "id": "7404fec8",
   "metadata": {},
   "outputs": [],
   "source": [
    "df = shuffle(pd.concat([df_peugeot,df_peugeot_2,df_opel,df_opel_2]))"
   ]
  },
  {
   "cell_type": "markdown",
   "id": "1d1b63f5",
   "metadata": {},
   "source": [
    "### 2.2 Adding spaces for column headers"
   ]
  },
  {
   "cell_type": "code",
   "execution_count": 4,
   "id": "ec7e692c",
   "metadata": {},
   "outputs": [],
   "source": [
    "for col in df.columns:\n",
    "    newFormat = re.sub(r\"(\\w)([A-Z])\", r\"\\1 \\2\", col).capitalize()\n",
    "    df.rename(columns={col:newFormat},inplace=True)\n",
    "\n",
    "\n",
    "#Creating a selection of columns to make edits\n",
    "col_label = ['Road surface', 'Traffic','Driving style']\n",
    "col_feat = list(df.columns[:14])"
   ]
  },
  {
   "cell_type": "markdown",
   "id": "98fca70d",
   "metadata": {},
   "source": [
    "### 2.3 Removing unwanted strings from labels & Ading capitalization and spaces."
   ]
  },
  {
   "cell_type": "code",
   "execution_count": 5,
   "id": "237725ad",
   "metadata": {},
   "outputs": [],
   "source": [
    "#Adding space between capital letters\n",
    "df[col_label] = df[col_label].replace(r\"([A-Z])\", r\" \\1\", regex=True)\n",
    "df[col_label] = df[col_label].replace(',', '', regex=True)"
   ]
  },
  {
   "cell_type": "markdown",
   "id": "d994b8c8",
   "metadata": {},
   "source": [
    "### 2.4  Replacing features decimal commas with decimal points."
   ]
  },
  {
   "cell_type": "code",
   "execution_count": 6,
   "id": "86df2ac8",
   "metadata": {},
   "outputs": [],
   "source": [
    "#Replacing commas with . \n",
    "df[col_feat] = df[col_feat].replace(',', '.', regex=True)"
   ]
  },
  {
   "cell_type": "markdown",
   "id": "501edde7",
   "metadata": {},
   "source": [
    "### 2.5 Reviewing NaN Values"
   ]
  },
  {
   "cell_type": "code",
   "execution_count": 7,
   "id": "03c844bc",
   "metadata": {},
   "outputs": [
    {
     "name": "stdout",
     "output_type": "stream",
     "text": [
      "Number of NaN in df     :  3093 \n",
      "\n",
      "\n",
      "Number of NaN by column: \n",
      "\n",
      " Altitude variation              180\n",
      "Vehicle speed instantaneous      44\n",
      "Vehicle speed average          1182\n",
      "Vehicle speed variance         1182\n",
      "Vehicle speed variation         188\n",
      "Longitudinal acceleration         0\n",
      "Engine load                       5\n",
      "Engine coolant temperature        5\n",
      "Manifold absolute pressure        5\n",
      "Engine rp m                       5\n",
      "Mass air flow                     5\n",
      "Intake air temperature            5\n",
      "Vertical acceleration             0\n",
      "Fuel consumption average        286\n",
      "Road surface                      0\n",
      "Traffic                           0\n",
      "Driving style                     1\n",
      "dtype: int64\n"
     ]
    }
   ],
   "source": [
    "print('Number of NaN in df     : ', sum(df.isnull().sum()),'\\n\\n')\n",
    "\n",
    "print('Number of NaN by column: \\n\\n',df.isnull().sum())"
   ]
  },
  {
   "cell_type": "markdown",
   "id": "06462c94",
   "metadata": {},
   "source": [
    "### 2.6 Drop NaN values"
   ]
  },
  {
   "cell_type": "code",
   "execution_count": 8,
   "id": "5a4996e7",
   "metadata": {},
   "outputs": [
    {
     "name": "stdout",
     "output_type": "stream",
     "text": [
      "number of NaN values:  Altitude variation             0\n",
      "Vehicle speed instantaneous    0\n",
      "Vehicle speed average          0\n",
      "Vehicle speed variance         0\n",
      "Vehicle speed variation        0\n",
      "Longitudinal acceleration      0\n",
      "Engine load                    0\n",
      "Engine coolant temperature     0\n",
      "Manifold absolute pressure     0\n",
      "Engine rp m                    0\n",
      "Mass air flow                  0\n",
      "Intake air temperature         0\n",
      "Vertical acceleration          0\n",
      "Fuel consumption average       0\n",
      "Road surface                   0\n",
      "Traffic                        0\n",
      "Driving style                  0\n",
      "dtype: int64\n"
     ]
    }
   ],
   "source": [
    "df = df.dropna()\n",
    "print('number of NaN values: ',df.isnull().sum())"
   ]
  },
  {
   "cell_type": "markdown",
   "id": "2b8dfe04",
   "metadata": {},
   "source": [
    "# 3. Preparing dataset for modeling"
   ]
  },
  {
   "cell_type": "markdown",
   "id": "e3b9c3c5",
   "metadata": {},
   "source": [
    "## 3.1 Converting features into numeric values"
   ]
  },
  {
   "cell_type": "code",
   "execution_count": 9,
   "id": "5427314c",
   "metadata": {},
   "outputs": [
    {
     "name": "stdout",
     "output_type": "stream",
     "text": [
      "Before:\n",
      "\n",
      "  Altitude variation              object\n",
      "Vehicle speed instantaneous     object\n",
      "Vehicle speed average           object\n",
      "Vehicle speed variance          object\n",
      "Vehicle speed variation         object\n",
      "Longitudinal acceleration       object\n",
      "Engine load                     object\n",
      "Engine coolant temperature     float64\n",
      "Manifold absolute pressure     float64\n",
      "Engine rp m                     object\n",
      "Mass air flow                   object\n",
      "Intake air temperature          object\n",
      "Vertical acceleration           object\n",
      "Fuel consumption average        object\n",
      "Road surface                    object\n",
      "Traffic                         object\n",
      "Driving style                   object\n",
      "dtype: object \n",
      "\n",
      "\n",
      "\n",
      "After:\n",
      "\n",
      "  Altitude variation             float64\n",
      "Vehicle speed instantaneous    float64\n",
      "Vehicle speed average          float64\n",
      "Vehicle speed variance         float64\n",
      "Vehicle speed variation        float64\n",
      "Longitudinal acceleration      float64\n",
      "Engine load                    float64\n",
      "Engine coolant temperature     float64\n",
      "Manifold absolute pressure     float64\n",
      "Engine rp m                    float64\n",
      "Mass air flow                  float64\n",
      "Intake air temperature         float64\n",
      "Vertical acceleration          float64\n",
      "Fuel consumption average       float64\n",
      "Road surface                    object\n",
      "Traffic                         object\n",
      "Driving style                   object\n",
      "dtype: object\n"
     ]
    }
   ],
   "source": [
    "print('Before:\\n\\n ',df.dtypes,'\\n\\n\\n')\n",
    "\n",
    "#Changing DataTypes to numeric\n",
    "for i in df.columns:\n",
    "    try:\n",
    "        df[i] = pd.to_numeric(df[i])\n",
    "    except:\n",
    "        pass\n",
    "    \n",
    "print('After:\\n\\n ',df.dtypes)"
   ]
  },
  {
   "cell_type": "markdown",
   "id": "381112a6",
   "metadata": {},
   "source": [
    "## 3.2 Resizing the data to match the class with least number of rows as to get an equal sample for each class"
   ]
  },
  {
   "cell_type": "code",
   "execution_count": 10,
   "id": "c0d1fbda",
   "metadata": {},
   "outputs": [
    {
     "data": {
      "text/plain": [
       "Driving style\n",
       " Aggressive Style    2759\n",
       " Even Pace Style     2759\n",
       "dtype: int64"
      ]
     },
     "execution_count": 10,
     "metadata": {},
     "output_type": "execute_result"
    }
   ],
   "source": [
    "df.groupby('Driving style').size()\n",
    "df = df.groupby('Driving style')\n",
    "df = df.apply(lambda x: x.sample(df.size().min())).reset_index(drop=True)\n",
    "\n",
    "df.groupby('Driving style').size()"
   ]
  },
  {
   "cell_type": "markdown",
   "id": "06d3f140",
   "metadata": {},
   "source": [
    "## 3.3 Handling Outliers\n",
    "\n",
    "We can use the skew() function to find the measure of asymmetry of the probability distribution in data over the index axis. Which should be between -1 and +1.\n",
    "\n",
    "#### We can represent this numerically as follows:\n"
   ]
  },
  {
   "cell_type": "code",
   "execution_count": 11,
   "id": "f1d1139d",
   "metadata": {},
   "outputs": [
    {
     "name": "stdout",
     "output_type": "stream",
     "text": [
      "Altitude variation             0.067753\n",
      "Vehicle speed instantaneous    1.113961\n",
      "Vehicle speed average          1.300442\n",
      "Vehicle speed variance         1.861563\n",
      "Vehicle speed variation       -0.662070\n",
      "Longitudinal acceleration      2.275080\n",
      "Engine load                    0.571546\n",
      "Engine coolant temperature    -1.675501\n",
      "Manifold absolute pressure     2.446621\n",
      "Engine rp m                    0.191326\n",
      "Mass air flow                  1.073196\n",
      "Intake air temperature         1.239381\n",
      "Vertical acceleration          3.667878\n",
      "Fuel consumption average       0.498485\n",
      "dtype: float64\n"
     ]
    }
   ],
   "source": [
    "print(df.skew())"
   ]
  },
  {
   "cell_type": "markdown",
   "id": "dc38aaaa",
   "metadata": {},
   "source": [
    "#### Visual representation using boxplot below:"
   ]
  },
  {
   "cell_type": "code",
   "execution_count": 12,
   "id": "a1d5153b",
   "metadata": {},
   "outputs": [
    {
     "data": {
      "image/png": "[encoded data removed]",
      "text/plain": [
       "<Figure size 432x288 with 1 Axes>"
      ]
     },
     "metadata": {
      "needs_background": "light"
     },
     "output_type": "display_data"
    },
    {
     "data": {
      "image/png": "[encoded data removed]",
      "text/plain": [
       "<Figure size 432x288 with 1 Axes>"
      ]
     },
     "metadata": {
      "needs_background": "light"
     },
     "output_type": "display_data"
    },
    {
     "data": {
      "image/png": "[encoded data removed]",
      "text/plain": [
       "<Figure size 432x288 with 1 Axes>"
      ]
     },
     "metadata": {
      "needs_background": "light"
     },
     "output_type": "display_data"
    },
    {
     "data": {
      "image/png": "[encoded data removed]",
      "text/plain": [
       "<Figure size 432x288 with 1 Axes>"
      ]
     },
     "metadata": {
      "needs_background": "light"
     },
     "output_type": "display_data"
    },
    {
     "data": {
      "image/png": "[encoded data removed]",
      "text/plain": [
       "<Figure size 432x288 with 1 Axes>"
      ]
     },
     "metadata": {
      "needs_background": "light"
     },
     "output_type": "display_data"
    },
    {
     "data": {
      "image/png": "[encoded data removed]",
      "text/plain": [
       "<Figure size 432x288 with 1 Axes>"
      ]
     },
     "metadata": {
      "needs_background": "light"
     },
     "output_type": "display_data"
    },
    {
     "data": {
      "image/png": "[encoded data removed]",
      "text/plain": [
       "<Figure size 432x288 with 1 Axes>"
      ]
     },
     "metadata": {
      "needs_background": "light"
     },
     "output_type": "display_data"
    },
    {
     "data": {
      "image/png": "[encoded data removed]",
      "text/plain": [
       "<Figure size 432x288 with 1 Axes>"
      ]
     },
     "metadata": {
      "needs_background": "light"
     },
     "output_type": "display_data"
    },
    {
     "data": {
      "image/png": "[encoded data removed]",
      "text/plain": [
       "<Figure size 432x288 with 1 Axes>"
      ]
     },
     "metadata": {
      "needs_background": "light"
     },
     "output_type": "display_data"
    },
    {
     "data": {
      "image/png": "[encoded data removed]",
      "text/plain": [
       "<Figure size 432x288 with 1 Axes>"
      ]
     },
     "metadata": {
      "needs_background": "light"
     },
     "output_type": "display_data"
    },
    {
     "data": {
      "image/png": "[encoded data removed]",
      "text/plain": [
       "<Figure size 432x288 with 1 Axes>"
      ]
     },
     "metadata": {
      "needs_background": "light"
     },
     "output_type": "display_data"
    },
    {
     "data": {
      "image/png": "[encoded data removed]",
      "text/plain": [
       "<Figure size 432x288 with 1 Axes>"
      ]
     },
     "metadata": {
      "needs_background": "light"
     },
     "output_type": "display_data"
    },
    {
     "data": {
      "image/png": "[encoded data removed]",
      "text/plain": [
       "<Figure size 432x288 with 1 Axes>"
      ]
     },
     "metadata": {
      "needs_background": "light"
     },
     "output_type": "display_data"
    },
    {
     "data": {
      "image/png": "[encoded data removed]",
      "text/plain": [
       "<Figure size 432x288 with 1 Axes>"
      ]
     },
     "metadata": {
      "needs_background": "light"
     },
     "output_type": "display_data"
    }
   ],
   "source": [
    "# Plotting Boxplots for checking outliers\n",
    "        \n",
    "for i in df.select_dtypes(exclude='object'):\n",
    "    sn.boxplot(df[i])\n",
    "    plt.show()"
   ]
  },
  {
   "cell_type": "markdown",
   "id": "7b9bf382",
   "metadata": {},
   "source": [
    "#### Clearly we have outliers as shown from above box plots & and distribution shown from the skew function\n",
    "\n",
    "Reference on how i handled outliers: https://www.pluralsight.com/guides/cleaning-up-data-from-outliers\n",
    "\n",
    "Detecting and removing outliers:"
   ]
  },
  {
   "cell_type": "code",
   "execution_count": 13,
   "id": "3d6ef199",
   "metadata": {},
   "outputs": [],
   "source": [
    "# handling the outliers\n",
    "def detect_outliers(df,variable):\n",
    "    \n",
    "    first_quantile = df[variable].quantile(0.25)\n",
    "    third_quantile = df[variable].quantile(0.75)\n",
    "    iqr = third_quantile - first_quantile\n",
    "    lower_bound = (first_quantile - 1.5*iqr)\n",
    "    upper_bound = (third_quantile + 1.5*iqr)\n",
    "    \n",
    "    high_outliers = df[variable]>upper_bound\n",
    "    low_outliers = df[variable] < lower_bound\n",
    "    return df[(low_outliers)|(high_outliers)]\n",
    "\n",
    "#  removing outliers\n",
    "def handle_outliers(df,variable):\n",
    "\n",
    "    IQR = df[variable].quantile(0.75)-df[variable].quantile(0.25)\n",
    "    upper_bridge = df[variable].quantile(0.75)+(IQR*1.5)\n",
    "    low_bridge = df[variable].quantile(0.25)-(IQR*1.5)\n",
    "\n",
    "    df.loc[df[variable]>=upper_bridge, variable]=upper_bridge\n",
    "    df.loc[df[variable]<=low_bridge, variable]=abs(low_bridge)\n",
    "    \n",
    "# columns having outliers in survive \n",
    "outliers_columns = []\n",
    "for i in df.select_dtypes(exclude='object').columns:\n",
    "    if detect_outliers(df,i).shape[0]>1:\n",
    "        outliers_columns.append(i)\n",
    "\n",
    "#Handling Outliers in survive \n",
    "for feat in outliers_columns:\n",
    "    handle_outliers(df,feat)\n"
   ]
  },
  {
   "cell_type": "markdown",
   "id": "e1a0f2fb",
   "metadata": {},
   "source": [
    "### Numerical representation of distribution after handling the outliers."
   ]
  },
  {
   "cell_type": "code",
   "execution_count": 14,
   "id": "f97de330",
   "metadata": {},
   "outputs": [
    {
     "name": "stdout",
     "output_type": "stream",
     "text": [
      "Altitude variation             0.229012\n",
      "Vehicle speed instantaneous    0.913569\n",
      "Vehicle speed average          1.015752\n",
      "Vehicle speed variance         1.033084\n",
      "Vehicle speed variation        0.232394\n",
      "Longitudinal acceleration      0.610642\n",
      "Engine load                    0.571546\n",
      "Engine coolant temperature    -1.247192\n",
      "Manifold absolute pressure     1.183386\n",
      "Engine rp m                    0.191326\n",
      "Mass air flow                  0.734889\n",
      "Intake air temperature         0.872693\n",
      "Vertical acceleration          0.348703\n",
      "Fuel consumption average       0.411997\n",
      "dtype: float64\n"
     ]
    }
   ],
   "source": [
    "print(df.skew())"
   ]
  },
  {
   "cell_type": "markdown",
   "id": "055889ac",
   "metadata": {},
   "source": [
    "### Visual reppresentation of distribution after handling the outliers."
   ]
  },
  {
   "cell_type": "code",
   "execution_count": 15,
   "id": "4147d55f",
   "metadata": {},
   "outputs": [
    {
     "data": {
      "image/png": "[encoded data removed]",
      "text/plain": [
       "<Figure size 432x288 with 1 Axes>"
      ]
     },
     "metadata": {
      "needs_background": "light"
     },
     "output_type": "display_data"
    },
    {
     "data": {
      "image/png": "[encoded data removed]",
      "text/plain": [
       "<Figure size 432x288 with 1 Axes>"
      ]
     },
     "metadata": {
      "needs_background": "light"
     },
     "output_type": "display_data"
    },
    {
     "data": {
      "image/png": "[encoded data removed]",
      "text/plain": [
       "<Figure size 432x288 with 1 Axes>"
      ]
     },
     "metadata": {
      "needs_background": "light"
     },
     "output_type": "display_data"
    },
    {
     "data": {
      "image/png": "[encoded data removed]",
      "text/plain": [
       "<Figure size 432x288 with 1 Axes>"
      ]
     },
     "metadata": {
      "needs_background": "light"
     },
     "output_type": "display_data"
    },
    {
     "data": {
      "image/png": "[encoded data removed]",
      "text/plain": [
       "<Figure size 432x288 with 1 Axes>"
      ]
     },
     "metadata": {
      "needs_background": "light"
     },
     "output_type": "display_data"
    },
    {
     "data": {
      "image/png": "[encoded data removed]",
      "text/plain": [
       "<Figure size 432x288 with 1 Axes>"
      ]
     },
     "metadata": {
      "needs_background": "light"
     },
     "output_type": "display_data"
    },
    {
     "data": {
      "image/png": "[encoded data removed]",
      "text/plain": [
       "<Figure size 432x288 with 1 Axes>"
      ]
     },
     "metadata": {
      "needs_background": "light"
     },
     "output_type": "display_data"
    },
    {
     "data": {
      "image/png": "[encoded data removed]",
      "text/plain": [
       "<Figure size 432x288 with 1 Axes>"
      ]
     },
     "metadata": {
      "needs_background": "light"
     },
     "output_type": "display_data"
    },
    {
     "data": {
      "image/png": "[encoded data removed]",
      "text/plain": [
       "<Figure size 432x288 with 1 Axes>"
      ]
     },
     "metadata": {
      "needs_background": "light"
     },
     "output_type": "display_data"
    },
    {
     "data": {
      "image/png": "[encoded data removed]",
      "text/plain": [
       "<Figure size 432x288 with 1 Axes>"
      ]
     },
     "metadata": {
      "needs_background": "light"
     },
     "output_type": "display_data"
    },
    {
     "data": {
      "image/png": "[encoded data removed]",
      "text/plain": [
       "<Figure size 432x288 with 1 Axes>"
      ]
     },
     "metadata": {
      "needs_background": "light"
     },
     "output_type": "display_data"
    },
    {
     "data": {
      "image/png": "[encoded data removed]",
      "text/plain": [
       "<Figure size 432x288 with 1 Axes>"
      ]
     },
     "metadata": {
      "needs_background": "light"
     },
     "output_type": "display_data"
    },
    {
     "data": {
      "image/png": "[encoded data removed]",
      "text/plain": [
       "<Figure size 432x288 with 1 Axes>"
      ]
     },
     "metadata": {
      "needs_background": "light"
     },
     "output_type": "display_data"
    },
    {
     "data": {
      "image/png": "[encoded data removed]",
      "text/plain": [
       "<Figure size 432x288 with 1 Axes>"
      ]
     },
     "metadata": {
      "needs_background": "light"
     },
     "output_type": "display_data"
    }
   ],
   "source": [
    "for i in df.select_dtypes(exclude='object'):\n",
    "    sn.boxplot(df[i])\n",
    "    plt.show()"
   ]
  },
  {
   "cell_type": "markdown",
   "id": "adbaeffe",
   "metadata": {},
   "source": [
    "## 3.4 Encode the target Output Column using oneHot"
   ]
  },
  {
   "cell_type": "code",
   "execution_count": 16,
   "id": "83e4bbae",
   "metadata": {},
   "outputs": [],
   "source": [
    "# Encoding target columns using oneHot\n",
    "target_columns = ['Driving style']\n",
    "drop_columns = [\"Traffic\", \"Road surface\"]\n",
    "df.drop(drop_columns, axis = 1,inplace=True)\n",
    "\n",
    "#Getting one-hot encoding for the classes in the labelled outputs\n",
    "one_hot = pd.get_dummies(df[target_columns])\n",
    "\n",
    "\n",
    "#Dropping the target columns \n",
    "df.drop(target_columns, axis = 1,inplace=True)\n",
    "\n",
    "df['Target'] = one_hot.values.tolist() \n",
    "\n"
   ]
  },
  {
   "cell_type": "markdown",
   "id": "aa9ca5f7",
   "metadata": {},
   "source": [
    "## 3.5 Splitting data into train/test"
   ]
  },
  {
   "cell_type": "code",
   "execution_count": 17,
   "id": "65767c49",
   "metadata": {},
   "outputs": [
    {
     "name": "stdout",
     "output_type": "stream",
     "text": [
      "X-Train Shape: (4414, 14) \n",
      " X-Test Shape: (1104, 14) \n",
      " Y-Train Shape: (4414, 2) \n",
      " Y-Test Shape: (1104, 2)\n"
     ]
    },
    {
     "data": {
      "text/html": [
       "<div>\n",
       "<style scoped>\n",
       "    .dataframe tbody tr th:only-of-type {\n",
       "        vertical-align: middle;\n",
       "    }\n",
       "\n",
       "    .dataframe tbody tr th {\n",
       "        vertical-align: top;\n",
       "    }\n",
       "\n",
       "    .dataframe thead th {\n",
       "        text-align: right;\n",
       "    }\n",
       "</style>\n",
       "<table border=\"1\" class=\"dataframe\">\n",
       "  <thead>\n",
       "    <tr style=\"text-align: right;\">\n",
       "      <th></th>\n",
       "      <th>Altitude variation</th>\n",
       "      <th>Vehicle speed instantaneous</th>\n",
       "      <th>Vehicle speed average</th>\n",
       "      <th>Vehicle speed variance</th>\n",
       "      <th>Vehicle speed variation</th>\n",
       "      <th>Longitudinal acceleration</th>\n",
       "      <th>Engine load</th>\n",
       "      <th>Engine coolant temperature</th>\n",
       "      <th>Manifold absolute pressure</th>\n",
       "      <th>Engine rp m</th>\n",
       "      <th>Mass air flow</th>\n",
       "      <th>Intake air temperature</th>\n",
       "      <th>Vertical acceleration</th>\n",
       "      <th>Fuel consumption average</th>\n",
       "      <th>Target</th>\n",
       "    </tr>\n",
       "  </thead>\n",
       "  <tbody>\n",
       "    <tr>\n",
       "      <th>916</th>\n",
       "      <td>-0.899994</td>\n",
       "      <td>45.899998</td>\n",
       "      <td>52.859998</td>\n",
       "      <td>597.171318</td>\n",
       "      <td>0.899998</td>\n",
       "      <td>0.819500</td>\n",
       "      <td>0.000000</td>\n",
       "      <td>78.0</td>\n",
       "      <td>114.0</td>\n",
       "      <td>1125.5</td>\n",
       "      <td>22.549999</td>\n",
       "      <td>40.0</td>\n",
       "      <td>-0.839500</td>\n",
       "      <td>7.996965</td>\n",
       "      <td>[1, 0]</td>\n",
       "    </tr>\n",
       "    <tr>\n",
       "      <th>5414</th>\n",
       "      <td>0.000000</td>\n",
       "      <td>0.000000</td>\n",
       "      <td>7.160724</td>\n",
       "      <td>119.586826</td>\n",
       "      <td>0.000000</td>\n",
       "      <td>-0.441400</td>\n",
       "      <td>56.470589</td>\n",
       "      <td>79.0</td>\n",
       "      <td>105.0</td>\n",
       "      <td>1166.0</td>\n",
       "      <td>13.260000</td>\n",
       "      <td>12.0</td>\n",
       "      <td>0.472600</td>\n",
       "      <td>16.221504</td>\n",
       "      <td>[0, 1]</td>\n",
       "    </tr>\n",
       "    <tr>\n",
       "      <th>135</th>\n",
       "      <td>0.799988</td>\n",
       "      <td>5.404320</td>\n",
       "      <td>42.082388</td>\n",
       "      <td>143.041009</td>\n",
       "      <td>1.576261</td>\n",
       "      <td>0.402000</td>\n",
       "      <td>46.666668</td>\n",
       "      <td>53.0</td>\n",
       "      <td>100.0</td>\n",
       "      <td>1466.0</td>\n",
       "      <td>18.299999</td>\n",
       "      <td>18.0</td>\n",
       "      <td>0.007800</td>\n",
       "      <td>15.894388</td>\n",
       "      <td>[1, 0]</td>\n",
       "    </tr>\n",
       "    <tr>\n",
       "      <th>2821</th>\n",
       "      <td>-1.300003</td>\n",
       "      <td>48.599998</td>\n",
       "      <td>36.314999</td>\n",
       "      <td>182.725692</td>\n",
       "      <td>-1.799999</td>\n",
       "      <td>1.823300</td>\n",
       "      <td>0.000000</td>\n",
       "      <td>46.0</td>\n",
       "      <td>104.0</td>\n",
       "      <td>1404.5</td>\n",
       "      <td>17.690001</td>\n",
       "      <td>16.0</td>\n",
       "      <td>-0.735300</td>\n",
       "      <td>16.854078</td>\n",
       "      <td>[0, 1]</td>\n",
       "    </tr>\n",
       "    <tr>\n",
       "      <th>2242</th>\n",
       "      <td>0.900024</td>\n",
       "      <td>4.053240</td>\n",
       "      <td>22.521752</td>\n",
       "      <td>51.617863</td>\n",
       "      <td>3.938854</td>\n",
       "      <td>0.902000</td>\n",
       "      <td>24.705883</td>\n",
       "      <td>73.0</td>\n",
       "      <td>98.0</td>\n",
       "      <td>828.0</td>\n",
       "      <td>5.360000</td>\n",
       "      <td>24.0</td>\n",
       "      <td>-0.742000</td>\n",
       "      <td>21.955652</td>\n",
       "      <td>[1, 0]</td>\n",
       "    </tr>\n",
       "    <tr>\n",
       "      <th>...</th>\n",
       "      <td>...</td>\n",
       "      <td>...</td>\n",
       "      <td>...</td>\n",
       "      <td>...</td>\n",
       "      <td>...</td>\n",
       "      <td>...</td>\n",
       "      <td>...</td>\n",
       "      <td>...</td>\n",
       "      <td>...</td>\n",
       "      <td>...</td>\n",
       "      <td>...</td>\n",
       "      <td>...</td>\n",
       "      <td>...</td>\n",
       "      <td>...</td>\n",
       "      <td>...</td>\n",
       "    </tr>\n",
       "    <tr>\n",
       "      <th>975</th>\n",
       "      <td>0.200012</td>\n",
       "      <td>8.556840</td>\n",
       "      <td>7.678638</td>\n",
       "      <td>43.893718</td>\n",
       "      <td>-3.828059</td>\n",
       "      <td>3.375087</td>\n",
       "      <td>31.372549</td>\n",
       "      <td>65.0</td>\n",
       "      <td>101.0</td>\n",
       "      <td>867.0</td>\n",
       "      <td>5.330000</td>\n",
       "      <td>15.0</td>\n",
       "      <td>1.564213</td>\n",
       "      <td>20.577492</td>\n",
       "      <td>[1, 0]</td>\n",
       "    </tr>\n",
       "    <tr>\n",
       "      <th>1454</th>\n",
       "      <td>-2.800003</td>\n",
       "      <td>60.798599</td>\n",
       "      <td>67.242499</td>\n",
       "      <td>247.062273</td>\n",
       "      <td>-1.576263</td>\n",
       "      <td>-0.039200</td>\n",
       "      <td>68.235298</td>\n",
       "      <td>83.0</td>\n",
       "      <td>147.0</td>\n",
       "      <td>1967.0</td>\n",
       "      <td>31.809999</td>\n",
       "      <td>19.0</td>\n",
       "      <td>-0.050800</td>\n",
       "      <td>12.475195</td>\n",
       "      <td>[1, 0]</td>\n",
       "    </tr>\n",
       "    <tr>\n",
       "      <th>3279</th>\n",
       "      <td>-2.600037</td>\n",
       "      <td>64.401474</td>\n",
       "      <td>88.828996</td>\n",
       "      <td>230.079052</td>\n",
       "      <td>2.026611</td>\n",
       "      <td>1.015500</td>\n",
       "      <td>33.725491</td>\n",
       "      <td>79.0</td>\n",
       "      <td>147.0</td>\n",
       "      <td>2057.0</td>\n",
       "      <td>34.029999</td>\n",
       "      <td>21.0</td>\n",
       "      <td>-0.113300</td>\n",
       "      <td>7.366280</td>\n",
       "      <td>[0, 1]</td>\n",
       "    </tr>\n",
       "    <tr>\n",
       "      <th>4537</th>\n",
       "      <td>-0.300003</td>\n",
       "      <td>10.799999</td>\n",
       "      <td>3.945000</td>\n",
       "      <td>21.474380</td>\n",
       "      <td>0.900000</td>\n",
       "      <td>1.093000</td>\n",
       "      <td>11.372549</td>\n",
       "      <td>79.0</td>\n",
       "      <td>102.0</td>\n",
       "      <td>839.0</td>\n",
       "      <td>5.410000</td>\n",
       "      <td>38.0</td>\n",
       "      <td>-1.058600</td>\n",
       "      <td>10.053289</td>\n",
       "      <td>[0, 1]</td>\n",
       "    </tr>\n",
       "    <tr>\n",
       "      <th>9</th>\n",
       "      <td>0.500000</td>\n",
       "      <td>0.000000</td>\n",
       "      <td>5.621994</td>\n",
       "      <td>41.047762</td>\n",
       "      <td>-2.927340</td>\n",
       "      <td>-0.097700</td>\n",
       "      <td>26.274509</td>\n",
       "      <td>81.0</td>\n",
       "      <td>100.0</td>\n",
       "      <td>795.0</td>\n",
       "      <td>4.590000</td>\n",
       "      <td>16.0</td>\n",
       "      <td>0.085900</td>\n",
       "      <td>16.627651</td>\n",
       "      <td>[1, 0]</td>\n",
       "    </tr>\n",
       "  </tbody>\n",
       "</table>\n",
       "<p>5518 rows × 15 columns</p>\n",
       "</div>"
      ],
      "text/plain": [
       "      Altitude variation  Vehicle speed instantaneous  Vehicle speed average  \\\n",
       "916            -0.899994                    45.899998              52.859998   \n",
       "5414            0.000000                     0.000000               7.160724   \n",
       "135             0.799988                     5.404320              42.082388   \n",
       "2821           -1.300003                    48.599998              36.314999   \n",
       "2242            0.900024                     4.053240              22.521752   \n",
       "...                  ...                          ...                    ...   \n",
       "975             0.200012                     8.556840               7.678638   \n",
       "1454           -2.800003                    60.798599              67.242499   \n",
       "3279           -2.600037                    64.401474              88.828996   \n",
       "4537           -0.300003                    10.799999               3.945000   \n",
       "9               0.500000                     0.000000               5.621994   \n",
       "\n",
       "      Vehicle speed variance  Vehicle speed variation  \\\n",
       "916               597.171318                 0.899998   \n",
       "5414              119.586826                 0.000000   \n",
       "135               143.041009                 1.576261   \n",
       "2821              182.725692                -1.799999   \n",
       "2242               51.617863                 3.938854   \n",
       "...                      ...                      ...   \n",
       "975                43.893718                -3.828059   \n",
       "1454              247.062273                -1.576263   \n",
       "3279              230.079052                 2.026611   \n",
       "4537               21.474380                 0.900000   \n",
       "9                  41.047762                -2.927340   \n",
       "\n",
       "      Longitudinal acceleration  Engine load  Engine coolant temperature  \\\n",
       "916                    0.819500     0.000000                        78.0   \n",
       "5414                  -0.441400    56.470589                        79.0   \n",
       "135                    0.402000    46.666668                        53.0   \n",
       "2821                   1.823300     0.000000                        46.0   \n",
       "2242                   0.902000    24.705883                        73.0   \n",
       "...                         ...          ...                         ...   \n",
       "975                    3.375087    31.372549                        65.0   \n",
       "1454                  -0.039200    68.235298                        83.0   \n",
       "3279                   1.015500    33.725491                        79.0   \n",
       "4537                   1.093000    11.372549                        79.0   \n",
       "9                     -0.097700    26.274509                        81.0   \n",
       "\n",
       "      Manifold absolute pressure  Engine rp m  Mass air flow  \\\n",
       "916                        114.0       1125.5      22.549999   \n",
       "5414                       105.0       1166.0      13.260000   \n",
       "135                        100.0       1466.0      18.299999   \n",
       "2821                       104.0       1404.5      17.690001   \n",
       "2242                        98.0        828.0       5.360000   \n",
       "...                          ...          ...            ...   \n",
       "975                        101.0        867.0       5.330000   \n",
       "1454                       147.0       1967.0      31.809999   \n",
       "3279                       147.0       2057.0      34.029999   \n",
       "4537                       102.0        839.0       5.410000   \n",
       "9                          100.0        795.0       4.590000   \n",
       "\n",
       "      Intake air temperature  Vertical acceleration  Fuel consumption average  \\\n",
       "916                     40.0              -0.839500                  7.996965   \n",
       "5414                    12.0               0.472600                 16.221504   \n",
       "135                     18.0               0.007800                 15.894388   \n",
       "2821                    16.0              -0.735300                 16.854078   \n",
       "2242                    24.0              -0.742000                 21.955652   \n",
       "...                      ...                    ...                       ...   \n",
       "975                     15.0               1.564213                 20.577492   \n",
       "1454                    19.0              -0.050800                 12.475195   \n",
       "3279                    21.0              -0.113300                  7.366280   \n",
       "4537                    38.0              -1.058600                 10.053289   \n",
       "9                       16.0               0.085900                 16.627651   \n",
       "\n",
       "      Target  \n",
       "916   [1, 0]  \n",
       "5414  [0, 1]  \n",
       "135   [1, 0]  \n",
       "2821  [0, 1]  \n",
       "2242  [1, 0]  \n",
       "...      ...  \n",
       "975   [1, 0]  \n",
       "1454  [1, 0]  \n",
       "3279  [0, 1]  \n",
       "4537  [0, 1]  \n",
       "9     [1, 0]  \n",
       "\n",
       "[5518 rows x 15 columns]"
      ]
     },
     "execution_count": 17,
     "metadata": {},
     "output_type": "execute_result"
    }
   ],
   "source": [
    "# Shuffing Dataset / frac=1 is to shuffle 100% of dataset, if for ex 0.5 then 50%\n",
    "df = df.sample(frac=1)\n",
    "# Splitting in to X,y\n",
    "X = df.drop(['Target'], axis=1)\n",
    "\n",
    "\n",
    "y = np.array(df['Target'].values.tolist())\n",
    "\n",
    "#Splitting in to train and test.  The test split is 20% and the training split is 80%. \n",
    "X_train, X_test, y_train, y_test = train_test_split(X, y, test_size=0.2, random_state=1)\n",
    "print('X-Train Shape:',X_train.shape,'\\n','X-Test Shape:', X_test.shape,'\\n','Y-Train Shape:', y_train.shape,'\\n', 'Y-Test Shape:',y_test.shape)\n",
    "\n",
    "df"
   ]
  },
  {
   "cell_type": "markdown",
   "id": "abce0735",
   "metadata": {},
   "source": [
    "## 3.6 Scaling"
   ]
  },
  {
   "cell_type": "code",
   "execution_count": 18,
   "id": "5b05c3e1",
   "metadata": {},
   "outputs": [],
   "source": [
    "# Scaling the Data Using StandardScaler\n",
    "scaler = preprocessing.StandardScaler()\n",
    "x_scaled = scaler.fit(X_train)\n",
    "X_train = scaler.transform(X_train)\n",
    "X_test = scaler.transform(X_test)"
   ]
  },
  {
   "cell_type": "markdown",
   "id": "31d3c62d",
   "metadata": {},
   "source": [
    "# 4. Creating Model\n",
    "\n",
    "To pick which is the best model to use, we will run them and see which gives the best accuracy:\n",
    "\n",
    "\n",
    "    -Random Forest\n",
    "    -SVM\n",
    "    -Decision Tree"
   ]
  },
  {
   "cell_type": "code",
   "execution_count": 19,
   "id": "fd2a9b35",
   "metadata": {},
   "outputs": [
    {
     "name": "stdout",
     "output_type": "stream",
     "text": [
      "Accuracy for Random Forest:  0.9003623188405797\n",
      "               precision    recall  f1-score   support\n",
      "\n",
      "    Agressive       0.88      0.94      0.91       562\n",
      "Not Agressive       0.94      0.86      0.90       542\n",
      "\n",
      "    micro avg       0.91      0.90      0.90      1104\n",
      "    macro avg       0.91      0.90      0.90      1104\n",
      " weighted avg       0.91      0.90      0.90      1104\n",
      "  samples avg       0.90      0.90      0.90      1104\n",
      "\n"
     ]
    }
   ],
   "source": [
    "# Random Forest\n",
    "rf = RandomForestClassifier(random_state=1)#random_state=1 so that the split will result in the same output\n",
    "model = MultiOutputClassifier(rf, n_jobs=-1)\n",
    "model.fit(X_train, y_train)\n",
    "\n",
    "y_pred = model.predict(X_test)\n",
    "accuracy = accuracy_score(y_test, y_pred)\n",
    "print(\"Accuracy for Random Forest: \",accuracy)\n",
    "\"Done\"\n",
    "\n",
    "print(classification_report(y_test, y_pred, target_names=['Agressive','Not Agressive']))"
   ]
  },
  {
   "cell_type": "code",
   "execution_count": 20,
   "id": "66c9e660",
   "metadata": {},
   "outputs": [
    {
     "name": "stdout",
     "output_type": "stream",
     "text": [
      "Accuracy for SVM:  0.8079710144927537\n",
      "               precision    recall  f1-score   support\n",
      "\n",
      "    Agressive       0.80      0.84      0.82       562\n",
      "Not Agressive       0.82      0.78      0.80       542\n",
      "\n",
      "    micro avg       0.81      0.81      0.81      1104\n",
      "    macro avg       0.81      0.81      0.81      1104\n",
      " weighted avg       0.81      0.81      0.81      1104\n",
      "  samples avg       0.81      0.81      0.81      1104\n",
      "\n"
     ]
    }
   ],
   "source": [
    "# SVM \n",
    "from sklearn.svm import SVC\n",
    "svm = SVC()\n",
    "model = MultiOutputClassifier(svm, n_jobs=-1)\n",
    "model.fit(X_train, y_train)\n",
    "\n",
    "y_pred = model.predict(X_test)\n",
    "accuracy = accuracy_score(y_test, y_pred)\n",
    "print(\"Accuracy for SVM: \",accuracy)\n",
    "\"Done\"\n",
    "print(classification_report(y_test, y_pred, target_names=['Agressive','Not Agressive']))"
   ]
  },
  {
   "cell_type": "code",
   "execution_count": 21,
   "id": "92d16b69",
   "metadata": {},
   "outputs": [
    {
     "name": "stdout",
     "output_type": "stream",
     "text": [
      "Accuracy for  Decision Tree:  0.8351449275362319\n",
      "                  precision    recall  f1-score   support\n",
      "\n",
      "Aggressive Style       0.84      0.83      0.84       562\n",
      " Even Pace Style       0.83      0.84      0.83       542\n",
      "\n",
      "       micro avg       0.84      0.84      0.84      1104\n",
      "       macro avg       0.84      0.84      0.84      1104\n",
      "    weighted avg       0.84      0.84      0.84      1104\n",
      "     samples avg       0.84      0.84      0.84      1104\n",
      "\n"
     ]
    }
   ],
   "source": [
    "# Decision Tree\n",
    "dt = DecisionTreeClassifier(random_state=1)\n",
    "model = MultiOutputClassifier(dt, n_jobs=-1)\n",
    "model.fit(X_train, y_train)\n",
    "\n",
    "y_pred = model.predict(X_test)\n",
    "accuracy = accuracy_score(y_test, y_pred)\n",
    "print(\"Accuracy for  Decision Tree: \",accuracy)\n",
    "\"Done\"\n",
    "print(classification_report(y_test, y_pred, target_names=['Aggressive Style', 'Even Pace Style']))"
   ]
  },
  {
   "cell_type": "markdown",
   "id": "22cf6a0e",
   "metadata": {},
   "source": [
    " ## We will pick Random Forest and SVM"
   ]
  },
  {
   "cell_type": "markdown",
   "id": "9f942911",
   "metadata": {},
   "source": [
    "## 4.1 Random Forest classifier algorithm.\n",
    "\n",
    "Here we can run the random forest algorithm"
   ]
  },
  {
   "cell_type": "code",
   "execution_count": 22,
   "id": "eb0ef178",
   "metadata": {},
   "outputs": [
    {
     "name": "stdout",
     "output_type": "stream",
     "text": [
      "Here we can see the testing accuracy\n",
      "Test Accuracy - : 0.890\n"
     ]
    }
   ],
   "source": [
    "# Random Forest\n",
    "rf = RandomForestClassifier()#random_state=1 so that the split will result in the same output\n",
    "model = rf\n",
    "model.fit(X_train, y_train)\n",
    "\n",
    "y_pred = model.predict(X_test)\n",
    "accuracy = accuracy_score(y_test, y_pred)\n",
    "\n",
    "\n",
    "print('Here we can see the testing accuracy')\n",
    "print (f'Test Accuracy - : {model.score(X_test,y_test):.3f}')"
   ]
  },
  {
   "cell_type": "markdown",
   "id": "7d2cfe7a",
   "metadata": {},
   "source": [
    "## 4.1.1 Hyper parameter Tuning\n",
    "With the goal of setting the optimal parameters when running the model to achieve a faster and moore accurate model"
   ]
  },
  {
   "cell_type": "markdown",
   "id": "06a98c2b",
   "metadata": {},
   "source": [
    "### Setting Parameters to test\n"
   ]
  },
  {
   "cell_type": "markdown",
   "id": "c3eabf69",
   "metadata": {},
   "source": [
    "We will begin to declare all the individual hyper parameters that we want to test"
   ]
  },
  {
   "cell_type": "code",
   "execution_count": 23,
   "id": "e4226b21",
   "metadata": {},
   "outputs": [],
   "source": [
    "# Number of trees in random forest\n",
    "n_estimators = [int(x) for x in np.linspace(start = 10, stop = 80, num = 10)] # generating number from 10 to 80 *10\n",
    "# Number of features to consider at every split\n",
    "max_features = ['auto', 'sqrt','log2']\n",
    "# Maximum number of levels in tree\n",
    "max_depth = [10,20,30]\n",
    "# Minimum number of samples required to split a node\n",
    "min_samples_split = [2, 5]\n",
    "# Minimum number of samples required at each leaf node\n",
    "min_samples_leaf = [1, 2]\n",
    "# Method of selecting samples for training each tree\n",
    "bootstrap = [True, False]"
   ]
  },
  {
   "cell_type": "markdown",
   "id": "a5394a13",
   "metadata": {},
   "source": [
    "Creating a Parameter Grid by storing the individual parameters inside a Dictionary"
   ]
  },
  {
   "cell_type": "code",
   "execution_count": 24,
   "id": "942a763c",
   "metadata": {},
   "outputs": [],
   "source": [
    "param_grid = {'n_estimators': n_estimators,\n",
    "               'max_features': max_features,\n",
    "               'max_depth': max_depth,\n",
    "               'min_samples_split': min_samples_split,\n",
    "               'min_samples_leaf': min_samples_leaf,\n",
    "               'bootstrap': bootstrap}\n"
   ]
  },
  {
   "cell_type": "markdown",
   "id": "2a3aa700",
   "metadata": {},
   "source": [
    "### 4.1.1.1 With GridSearch\n",
    "After indicating all the possible parameters we will use GridSearchCV to test the combination of all these possible parameters to find the best fit"
   ]
  },
  {
   "cell_type": "code",
   "execution_count": 25,
   "id": "2908869f",
   "metadata": {},
   "outputs": [],
   "source": [
    "#Estimator will be the model and param_grid will be the dictionary of parameters we set\n",
    "rf_Grid = GridSearchCV(estimator = rf, param_grid = param_grid, cv = 10, verbose=2, n_jobs = 4)"
   ]
  },
  {
   "cell_type": "code",
   "execution_count": 26,
   "id": "bf6a3c81",
   "metadata": {},
   "outputs": [
    {
     "data": {
      "text/plain": [
       "{'cv': 10,\n",
       " 'error_score': nan,\n",
       " 'estimator__bootstrap': True,\n",
       " 'estimator__ccp_alpha': 0.0,\n",
       " 'estimator__class_weight': None,\n",
       " 'estimator__criterion': 'gini',\n",
       " 'estimator__max_depth': None,\n",
       " 'estimator__max_features': 'auto',\n",
       " 'estimator__max_leaf_nodes': None,\n",
       " 'estimator__max_samples': None,\n",
       " 'estimator__min_impurity_decrease': 0.0,\n",
       " 'estimator__min_samples_leaf': 1,\n",
       " 'estimator__min_samples_split': 2,\n",
       " 'estimator__min_weight_fraction_leaf': 0.0,\n",
       " 'estimator__n_estimators': 100,\n",
       " 'estimator__n_jobs': None,\n",
       " 'estimator__oob_score': False,\n",
       " 'estimator__random_state': None,\n",
       " 'estimator__verbose': 0,\n",
       " 'estimator__warm_start': False,\n",
       " 'estimator': RandomForestClassifier(),\n",
       " 'n_jobs': 4,\n",
       " 'param_grid': {'n_estimators': [10, 17, 25, 33, 41, 48, 56, 64, 72, 80],\n",
       "  'max_features': ['auto', 'sqrt', 'log2'],\n",
       "  'max_depth': [10, 20, 30],\n",
       "  'min_samples_split': [2, 5],\n",
       "  'min_samples_leaf': [1, 2],\n",
       "  'bootstrap': [True, False]},\n",
       " 'pre_dispatch': '2*n_jobs',\n",
       " 'refit': True,\n",
       " 'return_train_score': False,\n",
       " 'scoring': None,\n",
       " 'verbose': 2}"
      ]
     },
     "execution_count": 26,
     "metadata": {},
     "output_type": "execute_result"
    }
   ],
   "source": [
    "#To see list of parameters that we can alter\n",
    "rf_Grid.get_params()"
   ]
  },
  {
   "cell_type": "code",
   "execution_count": 27,
   "id": "ad271838",
   "metadata": {},
   "outputs": [
    {
     "name": "stdout",
     "output_type": "stream",
     "text": [
      "Fitting 10 folds for each of 720 candidates, totalling 7200 fits\n"
     ]
    },
    {
     "data": {
      "text/plain": [
       "GridSearchCV(cv=10, estimator=RandomForestClassifier(), n_jobs=4,\n",
       "             param_grid={'bootstrap': [True, False], 'max_depth': [10, 20, 30],\n",
       "                         'max_features': ['auto', 'sqrt', 'log2'],\n",
       "                         'min_samples_leaf': [1, 2],\n",
       "                         'min_samples_split': [2, 5],\n",
       "                         'n_estimators': [10, 17, 25, 33, 41, 48, 56, 64, 72,\n",
       "                                          80]},\n",
       "             verbose=2)"
      ]
     },
     "execution_count": 27,
     "metadata": {},
     "output_type": "execute_result"
    }
   ],
   "source": [
    "#Now we will fit the Model\n",
    "rf_Grid.fit(X_train, y_train)"
   ]
  },
  {
   "cell_type": "markdown",
   "id": "93ef21b1",
   "metadata": {},
   "source": [
    "After fitting the model, we can use the method 'best_params_' to see what were the best parameters"
   ]
  },
  {
   "cell_type": "code",
   "execution_count": 28,
   "id": "73bbc5e9",
   "metadata": {},
   "outputs": [
    {
     "data": {
      "text/plain": [
       "{'bootstrap': False,\n",
       " 'max_depth': 30,\n",
       " 'max_features': 'log2',\n",
       " 'min_samples_leaf': 1,\n",
       " 'min_samples_split': 5,\n",
       " 'n_estimators': 72}"
      ]
     },
     "execution_count": 28,
     "metadata": {},
     "output_type": "execute_result"
    }
   ],
   "source": [
    "rf_Grid.best_params_"
   ]
  },
  {
   "cell_type": "markdown",
   "id": "5322392e",
   "metadata": {},
   "source": [
    "### Comparing Results\n",
    "#### After picking the best parameters we can now test its accuracy on the train and test split"
   ]
  },
  {
   "cell_type": "markdown",
   "id": "013335de",
   "metadata": {},
   "source": [
    "1) Here we have the Test results before adding the new parameters"
   ]
  },
  {
   "cell_type": "code",
   "execution_count": 29,
   "id": "90b40d55",
   "metadata": {},
   "outputs": [
    {
     "name": "stdout",
     "output_type": "stream",
     "text": [
      "Test Accuracy - : 0.890\n"
     ]
    }
   ],
   "source": [
    "print (f'Test Accuracy - : {rf.score(X_test,y_test):.3f}')"
   ]
  },
  {
   "cell_type": "markdown",
   "id": "cf5b8807",
   "metadata": {},
   "source": [
    "2) Here we have the Train and Test results with the new parameters"
   ]
  },
  {
   "cell_type": "code",
   "execution_count": 30,
   "id": "3752fde3",
   "metadata": {},
   "outputs": [
    {
     "name": "stdout",
     "output_type": "stream",
     "text": [
      "Train Accuracy - : 1.000\n",
      "Test Accuracy - : 0.908\n"
     ]
    }
   ],
   "source": [
    "print (f'Train Accuracy - : {rf_Grid.score(X_train,y_train):.3f}')\n",
    "print (f'Test Accuracy - : {rf_Grid.score(X_test,y_test):.3f}')"
   ]
  },
  {
   "cell_type": "markdown",
   "id": "0213521a",
   "metadata": {},
   "source": [
    "### Conclusion: \n",
    "If you compare the new testing accuracy to the basic Random forest model you will see that the train accuracy before and after tuning the parameters which yielded a slight increase in accuracy"
   ]
  },
  {
   "cell_type": "markdown",
   "id": "797fd477",
   "metadata": {},
   "source": [
    "### 4.1.1.2 With RandomizedSearchCV"
   ]
  },
  {
   "cell_type": "code",
   "execution_count": 31,
   "id": "77c414e4",
   "metadata": {},
   "outputs": [],
   "source": [
    "rf_RandomGrid = RandomizedSearchCV(estimator = rf, param_distributions = param_grid, cv = 10, verbose=2, n_jobs = 4)"
   ]
  },
  {
   "cell_type": "code",
   "execution_count": 32,
   "id": "14d7b729",
   "metadata": {},
   "outputs": [
    {
     "data": {
      "text/plain": [
       "{'cv': 10,\n",
       " 'error_score': nan,\n",
       " 'estimator__bootstrap': True,\n",
       " 'estimator__ccp_alpha': 0.0,\n",
       " 'estimator__class_weight': None,\n",
       " 'estimator__criterion': 'gini',\n",
       " 'estimator__max_depth': None,\n",
       " 'estimator__max_features': 'auto',\n",
       " 'estimator__max_leaf_nodes': None,\n",
       " 'estimator__max_samples': None,\n",
       " 'estimator__min_impurity_decrease': 0.0,\n",
       " 'estimator__min_samples_leaf': 1,\n",
       " 'estimator__min_samples_split': 2,\n",
       " 'estimator__min_weight_fraction_leaf': 0.0,\n",
       " 'estimator__n_estimators': 100,\n",
       " 'estimator__n_jobs': None,\n",
       " 'estimator__oob_score': False,\n",
       " 'estimator__random_state': None,\n",
       " 'estimator__verbose': 0,\n",
       " 'estimator__warm_start': False,\n",
       " 'estimator': RandomForestClassifier(),\n",
       " 'n_iter': 10,\n",
       " 'n_jobs': 4,\n",
       " 'param_distributions': {'n_estimators': [10,\n",
       "   17,\n",
       "   25,\n",
       "   33,\n",
       "   41,\n",
       "   48,\n",
       "   56,\n",
       "   64,\n",
       "   72,\n",
       "   80],\n",
       "  'max_features': ['auto', 'sqrt', 'log2'],\n",
       "  'max_depth': [10, 20, 30],\n",
       "  'min_samples_split': [2, 5],\n",
       "  'min_samples_leaf': [1, 2],\n",
       "  'bootstrap': [True, False]},\n",
       " 'pre_dispatch': '2*n_jobs',\n",
       " 'random_state': None,\n",
       " 'refit': True,\n",
       " 'return_train_score': False,\n",
       " 'scoring': None,\n",
       " 'verbose': 2}"
      ]
     },
     "execution_count": 32,
     "metadata": {},
     "output_type": "execute_result"
    }
   ],
   "source": [
    "#To get a list of parameters to alter\n",
    "rf_RandomGrid.get_params()"
   ]
  },
  {
   "cell_type": "code",
   "execution_count": 33,
   "id": "fc63dd6e",
   "metadata": {},
   "outputs": [
    {
     "name": "stdout",
     "output_type": "stream",
     "text": [
      "Fitting 10 folds for each of 10 candidates, totalling 100 fits\n"
     ]
    },
    {
     "data": {
      "text/plain": [
       "RandomizedSearchCV(cv=10, estimator=RandomForestClassifier(), n_jobs=4,\n",
       "                   param_distributions={'bootstrap': [True, False],\n",
       "                                        'max_depth': [10, 20, 30],\n",
       "                                        'max_features': ['auto', 'sqrt',\n",
       "                                                         'log2'],\n",
       "                                        'min_samples_leaf': [1, 2],\n",
       "                                        'min_samples_split': [2, 5],\n",
       "                                        'n_estimators': [10, 17, 25, 33, 41, 48,\n",
       "                                                         56, 64, 72, 80]},\n",
       "                   verbose=2)"
      ]
     },
     "execution_count": 33,
     "metadata": {},
     "output_type": "execute_result"
    }
   ],
   "source": [
    "rf_RandomGrid.fit(X_train,y_train)"
   ]
  },
  {
   "cell_type": "code",
   "execution_count": 34,
   "id": "952eae93",
   "metadata": {},
   "outputs": [
    {
     "data": {
      "text/plain": [
       "{'n_estimators': 64,\n",
       " 'min_samples_split': 2,\n",
       " 'min_samples_leaf': 1,\n",
       " 'max_features': 'sqrt',\n",
       " 'max_depth': 20,\n",
       " 'bootstrap': True}"
      ]
     },
     "execution_count": 34,
     "metadata": {},
     "output_type": "execute_result"
    }
   ],
   "source": [
    "rf_RandomGrid.best_params_"
   ]
  },
  {
   "cell_type": "markdown",
   "id": "c2f5788c",
   "metadata": {},
   "source": [
    "1) Here we have the Train and Test results before adding the new parameters"
   ]
  },
  {
   "cell_type": "code",
   "execution_count": 35,
   "id": "e4d50770",
   "metadata": {},
   "outputs": [
    {
     "name": "stdout",
     "output_type": "stream",
     "text": [
      "Train Accuracy - : 1.000\n",
      "Test Accuracy - : 0.890\n"
     ]
    }
   ],
   "source": [
    "print (f'Train Accuracy - : {rf.score(X_train,y_train):.3f}')\n",
    "print (f'Test Accuracy - : {rf.score(X_test,y_test):.3f}')"
   ]
  },
  {
   "cell_type": "markdown",
   "id": "c923155a",
   "metadata": {},
   "source": [
    "2) Here we have the Train and Test results after adding the new parameters"
   ]
  },
  {
   "cell_type": "code",
   "execution_count": 36,
   "id": "a1e4334a",
   "metadata": {},
   "outputs": [
    {
     "name": "stdout",
     "output_type": "stream",
     "text": [
      "Train Accuracy - : 1.000\n",
      "Test Accuracy - : 0.895\n"
     ]
    }
   ],
   "source": [
    "print (f'Train Accuracy - : {rf_RandomGrid.score(X_train,y_train):.3f}')\n",
    "print (f'Test Accuracy - : {rf_RandomGrid.score(X_test,y_test):.3f}')"
   ]
  },
  {
   "cell_type": "markdown",
   "id": "19692e35",
   "metadata": {},
   "source": [
    "While using the RandomizedSearchCV we see that we get a slightly lower accuracy compared to GridSearch"
   ]
  },
  {
   "cell_type": "markdown",
   "id": "41c54099",
   "metadata": {},
   "source": [
    "### 4.1.2 Evaluating feature Importance\n",
    "\n",
    "We are presented with a confusion matrix to see the correlation between the true labels and the predicted ones. We will use this to see any changes while altering the order of a feature. If the accuracy doesnt change, this will mean that the feature has no importance to the model."
   ]
  },
  {
   "cell_type": "code",
   "execution_count": 37,
   "id": "cca23cdb",
   "metadata": {},
   "outputs": [
    {
     "data": {
      "image/png": "[encoded data removed]",
      "text/plain": [
       "<Figure size 1440x432 with 2 Axes>"
      ]
     },
     "metadata": {
      "needs_background": "light"
     },
     "output_type": "display_data"
    }
   ],
   "source": [
    "column_names = []\n",
    "for x in one_hot.columns:\n",
    "    column_names.append(x)\n",
    "\n",
    "#creating confusion matrix as np array\n",
    "cm = confusion_matrix(y_test.argmax(axis=1), y_pred.argmax(axis=1))\n",
    "#setting fig size\n",
    "f = plt.figure(figsize=(20,6))\n",
    "#plot\n",
    "ax = f.add_subplot(121)\n",
    "\n",
    "sn.heatmap(cm, annot=True, fmt='g', ax=ax);  #annot=True to annotate cells, ftm='g' to disable scientific notation\n",
    "\n",
    "# labels, title and ticks\n",
    "ax.set_xlabel('Predicted labels');ax.set_ylabel('True labels'); \n",
    "ax.set_title('Confusion Matrix'); \n",
    "ax.xaxis.set_ticklabels(['Aggressive Style', 'Even Pace Style']); ax.yaxis.set_ticklabels(['Aggressive Style', 'Even Pace Style']);\n",
    "ax.tick_params(axis='both', which='major', labelsize=10)\n"
   ]
  },
  {
   "cell_type": "markdown",
   "id": "e95532f0",
   "metadata": {},
   "source": [
    "### 4.1.c Creating a DF to display the difference between the prediction and the true label"
   ]
  },
  {
   "cell_type": "code",
   "execution_count": 38,
   "id": "3e1bbae4",
   "metadata": {},
   "outputs": [],
   "source": [
    "std_score = model.score(X_test,y_test)\n",
    "\n",
    "#Creating a DataFrame to display the accuracy of the DF by each feature\n",
    "data = {'Altitude variation':[0],'Vehicle speed instantaneous':[0],'Vehicle speed average':[0],'Vehicle speed variance':[0],'Vehicle speed variation':[0],'Longitudinal acceleration':[0],'Engine load':[0],'Engine coolant temperature':[0],'Manifold absolute pressure':[0],'Engine rp m':[0],'Mass air flow':[0],'Intake air temperature':[0],'Vertical acceleration':[0],'Fuel consumption average':[0]}\n",
    "ft_accuracy = pd.DataFrame(data)\n",
    "\n"
   ]
  },
  {
   "cell_type": "code",
   "execution_count": 39,
   "id": "bf8dd55c",
   "metadata": {
    "scrolled": true
   },
   "outputs": [
    {
     "name": "stdout",
     "output_type": "stream",
     "text": [
      "Level of feature importance:\n"
     ]
    },
    {
     "data": {
      "text/html": [
       "<div>\n",
       "<style scoped>\n",
       "    .dataframe tbody tr th:only-of-type {\n",
       "        vertical-align: middle;\n",
       "    }\n",
       "\n",
       "    .dataframe tbody tr th {\n",
       "        vertical-align: top;\n",
       "    }\n",
       "\n",
       "    .dataframe thead th {\n",
       "        text-align: right;\n",
       "    }\n",
       "</style>\n",
       "<table border=\"1\" class=\"dataframe\">\n",
       "  <thead>\n",
       "    <tr style=\"text-align: right;\">\n",
       "      <th></th>\n",
       "      <th>Altitude variation</th>\n",
       "      <th>Vehicle speed instantaneous</th>\n",
       "      <th>Vehicle speed average</th>\n",
       "      <th>Vehicle speed variance</th>\n",
       "      <th>Vehicle speed variation</th>\n",
       "      <th>Longitudinal acceleration</th>\n",
       "      <th>Engine load</th>\n",
       "      <th>Engine coolant temperature</th>\n",
       "      <th>Manifold absolute pressure</th>\n",
       "      <th>Engine rp m</th>\n",
       "      <th>Mass air flow</th>\n",
       "      <th>Intake air temperature</th>\n",
       "      <th>Vertical acceleration</th>\n",
       "      <th>Fuel consumption average</th>\n",
       "    </tr>\n",
       "  </thead>\n",
       "  <tbody>\n",
       "    <tr>\n",
       "      <th>0</th>\n",
       "      <td>1.99%</td>\n",
       "      <td>11.78%</td>\n",
       "      <td>4.62%</td>\n",
       "      <td>7.16%</td>\n",
       "      <td>0.63%</td>\n",
       "      <td>2.63%</td>\n",
       "      <td>2.26%</td>\n",
       "      <td>3.80%</td>\n",
       "      <td>2.17%</td>\n",
       "      <td>2.63%</td>\n",
       "      <td>0.82%</td>\n",
       "      <td>5.43%</td>\n",
       "      <td>2.90%</td>\n",
       "      <td>4.71%</td>\n",
       "    </tr>\n",
       "  </tbody>\n",
       "</table>\n",
       "</div>"
      ],
      "text/plain": [
       "  Altitude variation Vehicle speed instantaneous Vehicle speed average  \\\n",
       "0              1.99%                      11.78%                 4.62%   \n",
       "\n",
       "  Vehicle speed variance Vehicle speed variation Longitudinal acceleration  \\\n",
       "0                  7.16%                   0.63%                     2.63%   \n",
       "\n",
       "  Engine load Engine coolant temperature Manifold absolute pressure  \\\n",
       "0       2.26%                      3.80%                      2.17%   \n",
       "\n",
       "  Engine rp m Mass air flow Intake air temperature Vertical acceleration  \\\n",
       "0       2.63%         0.82%                  5.43%                 2.90%   \n",
       "\n",
       "  Fuel consumption average  \n",
       "0                    4.71%  "
      ]
     },
     "execution_count": 39,
     "metadata": {},
     "output_type": "execute_result"
    }
   ],
   "source": [
    "#Creatinga pandas Df from numpy Array\n",
    "X_test_Df = pd.DataFrame(X_test,columns=data)\n",
    "\n",
    "\n",
    "for col in X_test_Df:\n",
    "    #Make a copy of the df so that it is not altered\n",
    "    copy = X_test_Df.copy()\n",
    "    #Permutate the randomization of the values in the column\n",
    "    copy[col] = np.random.permutation(copy[col])\n",
    "    #In the feature accuracy df we will append the result of the standard accuracy score - standard accuracy score after randomizing that column\n",
    "    #The result will be the difference in %\n",
    "    ft_accuracy[col] = \"{:.2%}\".format(std_score - model.score(copy,y_test))\n",
    "    #print(std_score,' - ', model.score(copy,y_test) )\n",
    "\n",
    "\n",
    "print('Level of feature importance:')\n",
    "ft_accuracy\n"
   ]
  },
  {
   "cell_type": "markdown",
   "id": "3e0527ec",
   "metadata": {},
   "source": [
    "## 4.2 SVM classifier algorithm"
   ]
  },
  {
   "cell_type": "code",
   "execution_count": 40,
   "id": "f1cc43ab",
   "metadata": {},
   "outputs": [
    {
     "name": "stdout",
     "output_type": "stream",
     "text": [
      "Accuracy for SVM:  0.8079710144927537\n"
     ]
    },
    {
     "data": {
      "text/plain": [
       "'Done'"
      ]
     },
     "execution_count": 40,
     "metadata": {},
     "output_type": "execute_result"
    }
   ],
   "source": [
    "# SVM \n",
    "\n",
    "svm = SVC()\n",
    "model = MultiOutputClassifier(svm, n_jobs=-1)\n",
    "model.fit(X_train, y_train)\n",
    "\n",
    "y_pred = model.predict(X_test)\n",
    "accuracy = accuracy_score(y_test, y_pred)\n",
    "print(\"Accuracy for SVM: \",accuracy)\n",
    "\"Done\""
   ]
  },
  {
   "cell_type": "markdown",
   "id": "d8ae6e13",
   "metadata": {},
   "source": [
    "## Hyper parameter Tuning\n",
    "With the goal of setting the optimal parameters when running the model to achieve a faster and moore accurate model"
   ]
  },
  {
   "cell_type": "code",
   "execution_count": 41,
   "id": "013e0834",
   "metadata": {},
   "outputs": [],
   "source": [
    "param_grid = {'estimator__C': [0.1, 1, 10, 100, 1000],\n",
    "              'estimator__gamma': [1, 0.1, 0.01, 0.001, 0.0001],\n",
    "              'estimator__kernel': ['rbf']}"
   ]
  },
  {
   "cell_type": "markdown",
   "id": "a8dfef7d",
   "metadata": {},
   "source": [
    "### With GridSearch"
   ]
  },
  {
   "cell_type": "code",
   "execution_count": 42,
   "id": "645261a6",
   "metadata": {},
   "outputs": [],
   "source": [
    "#Estimator will be the model and param_grid will be the dictionary of parameters we set\n",
    "svm_Grid = GridSearchCV(estimator = model, param_grid = param_grid, refit = True, verbose = 2)\n"
   ]
  },
  {
   "cell_type": "code",
   "execution_count": 43,
   "id": "ba72d7d8",
   "metadata": {
    "scrolled": false
   },
   "outputs": [
    {
     "name": "stdout",
     "output_type": "stream",
     "text": [
      "Fitting 5 folds for each of 25 candidates, totalling 125 fits\n",
      "[CV] END estimator__C=0.1, estimator__gamma=1, estimator__kernel=rbf; total time=   1.6s\n",
      "[CV] END estimator__C=0.1, estimator__gamma=1, estimator__kernel=rbf; total time=   0.8s\n",
      "[CV] END estimator__C=0.1, estimator__gamma=1, estimator__kernel=rbf; total time=   0.9s\n",
      "[CV] END estimator__C=0.1, estimator__gamma=1, estimator__kernel=rbf; total time=   0.8s\n",
      "[CV] END estimator__C=0.1, estimator__gamma=1, estimator__kernel=rbf; total time=   0.8s\n",
      "[CV] END estimator__C=0.1, estimator__gamma=0.1, estimator__kernel=rbf; total time=   0.6s\n",
      "[CV] END estimator__C=0.1, estimator__gamma=0.1, estimator__kernel=rbf; total time=   0.6s\n",
      "[CV] END estimator__C=0.1, estimator__gamma=0.1, estimator__kernel=rbf; total time=   0.6s\n",
      "[CV] END estimator__C=0.1, estimator__gamma=0.1, estimator__kernel=rbf; total time=   0.7s\n",
      "[CV] END estimator__C=0.1, estimator__gamma=0.1, estimator__kernel=rbf; total time=   0.6s\n",
      "[CV] END estimator__C=0.1, estimator__gamma=0.01, estimator__kernel=rbf; total time=   0.7s\n",
      "[CV] END estimator__C=0.1, estimator__gamma=0.01, estimator__kernel=rbf; total time=   0.7s\n",
      "[CV] END estimator__C=0.1, estimator__gamma=0.01, estimator__kernel=rbf; total time=   0.7s\n",
      "[CV] END estimator__C=0.1, estimator__gamma=0.01, estimator__kernel=rbf; total time=   0.7s\n",
      "[CV] END estimator__C=0.1, estimator__gamma=0.01, estimator__kernel=rbf; total time=   0.8s\n",
      "[CV] END estimator__C=0.1, estimator__gamma=0.001, estimator__kernel=rbf; total time=   1.0s\n",
      "[CV] END estimator__C=0.1, estimator__gamma=0.001, estimator__kernel=rbf; total time=   0.9s\n",
      "[CV] END estimator__C=0.1, estimator__gamma=0.001, estimator__kernel=rbf; total time=   0.9s\n",
      "[CV] END estimator__C=0.1, estimator__gamma=0.001, estimator__kernel=rbf; total time=   0.8s\n",
      "[CV] END estimator__C=0.1, estimator__gamma=0.001, estimator__kernel=rbf; total time=   0.9s\n",
      "[CV] END estimator__C=0.1, estimator__gamma=0.0001, estimator__kernel=rbf; total time=   0.9s\n",
      "[CV] END estimator__C=0.1, estimator__gamma=0.0001, estimator__kernel=rbf; total time=   0.9s\n",
      "[CV] END estimator__C=0.1, estimator__gamma=0.0001, estimator__kernel=rbf; total time=   0.8s\n",
      "[CV] END estimator__C=0.1, estimator__gamma=0.0001, estimator__kernel=rbf; total time=   0.8s\n",
      "[CV] END estimator__C=0.1, estimator__gamma=0.0001, estimator__kernel=rbf; total time=   0.9s\n",
      "[CV] END estimator__C=1, estimator__gamma=1, estimator__kernel=rbf; total time=   0.9s\n",
      "[CV] END estimator__C=1, estimator__gamma=1, estimator__kernel=rbf; total time=   0.9s\n",
      "[CV] END estimator__C=1, estimator__gamma=1, estimator__kernel=rbf; total time=   0.9s\n",
      "[CV] END estimator__C=1, estimator__gamma=1, estimator__kernel=rbf; total time=   0.9s\n",
      "[CV] END estimator__C=1, estimator__gamma=1, estimator__kernel=rbf; total time=   0.9s\n",
      "[CV] END estimator__C=1, estimator__gamma=0.1, estimator__kernel=rbf; total time=   0.5s\n",
      "[CV] END estimator__C=1, estimator__gamma=0.1, estimator__kernel=rbf; total time=   0.5s\n",
      "[CV] END estimator__C=1, estimator__gamma=0.1, estimator__kernel=rbf; total time=   0.6s\n",
      "[CV] END estimator__C=1, estimator__gamma=0.1, estimator__kernel=rbf; total time=   0.6s\n",
      "[CV] END estimator__C=1, estimator__gamma=0.1, estimator__kernel=rbf; total time=   0.6s\n",
      "[CV] END estimator__C=1, estimator__gamma=0.01, estimator__kernel=rbf; total time=   0.6s\n",
      "[CV] END estimator__C=1, estimator__gamma=0.01, estimator__kernel=rbf; total time=   0.6s\n",
      "[CV] END estimator__C=1, estimator__gamma=0.01, estimator__kernel=rbf; total time=   0.6s\n",
      "[CV] END estimator__C=1, estimator__gamma=0.01, estimator__kernel=rbf; total time=   0.6s\n",
      "[CV] END estimator__C=1, estimator__gamma=0.01, estimator__kernel=rbf; total time=   0.6s\n",
      "[CV] END estimator__C=1, estimator__gamma=0.001, estimator__kernel=rbf; total time=   0.7s\n",
      "[CV] END estimator__C=1, estimator__gamma=0.001, estimator__kernel=rbf; total time=   0.7s\n",
      "[CV] END estimator__C=1, estimator__gamma=0.001, estimator__kernel=rbf; total time=   0.7s\n",
      "[CV] END estimator__C=1, estimator__gamma=0.001, estimator__kernel=rbf; total time=   0.8s\n",
      "[CV] END estimator__C=1, estimator__gamma=0.001, estimator__kernel=rbf; total time=   0.7s\n",
      "[CV] END estimator__C=1, estimator__gamma=0.0001, estimator__kernel=rbf; total time=   0.8s\n",
      "[CV] END estimator__C=1, estimator__gamma=0.0001, estimator__kernel=rbf; total time=   0.8s\n",
      "[CV] END estimator__C=1, estimator__gamma=0.0001, estimator__kernel=rbf; total time=   0.8s\n",
      "[CV] END estimator__C=1, estimator__gamma=0.0001, estimator__kernel=rbf; total time=   0.8s\n",
      "[CV] END estimator__C=1, estimator__gamma=0.0001, estimator__kernel=rbf; total time=   0.9s\n",
      "[CV] END estimator__C=10, estimator__gamma=1, estimator__kernel=rbf; total time=   0.9s\n",
      "[CV] END estimator__C=10, estimator__gamma=1, estimator__kernel=rbf; total time=   0.9s\n",
      "[CV] END estimator__C=10, estimator__gamma=1, estimator__kernel=rbf; total time=   1.0s\n",
      "[CV] END estimator__C=10, estimator__gamma=1, estimator__kernel=rbf; total time=   1.0s\n",
      "[CV] END estimator__C=10, estimator__gamma=1, estimator__kernel=rbf; total time=   1.0s\n",
      "[CV] END estimator__C=10, estimator__gamma=0.1, estimator__kernel=rbf; total time=   0.6s\n",
      "[CV] END estimator__C=10, estimator__gamma=0.1, estimator__kernel=rbf; total time=   0.5s\n",
      "[CV] END estimator__C=10, estimator__gamma=0.1, estimator__kernel=rbf; total time=   0.5s\n",
      "[CV] END estimator__C=10, estimator__gamma=0.1, estimator__kernel=rbf; total time=   0.6s\n",
      "[CV] END estimator__C=10, estimator__gamma=0.1, estimator__kernel=rbf; total time=   0.5s\n",
      "[CV] END estimator__C=10, estimator__gamma=0.01, estimator__kernel=rbf; total time=   0.5s\n",
      "[CV] END estimator__C=10, estimator__gamma=0.01, estimator__kernel=rbf; total time=   0.6s\n",
      "[CV] END estimator__C=10, estimator__gamma=0.01, estimator__kernel=rbf; total time=   0.6s\n",
      "[CV] END estimator__C=10, estimator__gamma=0.01, estimator__kernel=rbf; total time=   0.6s\n",
      "[CV] END estimator__C=10, estimator__gamma=0.01, estimator__kernel=rbf; total time=   0.6s\n",
      "[CV] END estimator__C=10, estimator__gamma=0.001, estimator__kernel=rbf; total time=   0.6s\n",
      "[CV] END estimator__C=10, estimator__gamma=0.001, estimator__kernel=rbf; total time=   0.6s\n",
      "[CV] END estimator__C=10, estimator__gamma=0.001, estimator__kernel=rbf; total time=   0.6s\n",
      "[CV] END estimator__C=10, estimator__gamma=0.001, estimator__kernel=rbf; total time=   0.7s\n",
      "[CV] END estimator__C=10, estimator__gamma=0.001, estimator__kernel=rbf; total time=   0.6s\n",
      "[CV] END estimator__C=10, estimator__gamma=0.0001, estimator__kernel=rbf; total time=   0.7s\n",
      "[CV] END estimator__C=10, estimator__gamma=0.0001, estimator__kernel=rbf; total time=   0.7s\n",
      "[CV] END estimator__C=10, estimator__gamma=0.0001, estimator__kernel=rbf; total time=   0.8s\n",
      "[CV] END estimator__C=10, estimator__gamma=0.0001, estimator__kernel=rbf; total time=   0.8s\n",
      "[CV] END estimator__C=10, estimator__gamma=0.0001, estimator__kernel=rbf; total time=   0.8s\n",
      "[CV] END estimator__C=100, estimator__gamma=1, estimator__kernel=rbf; total time=   0.9s\n",
      "[CV] END estimator__C=100, estimator__gamma=1, estimator__kernel=rbf; total time=   0.9s\n",
      "[CV] END estimator__C=100, estimator__gamma=1, estimator__kernel=rbf; total time=   1.3s\n",
      "[CV] END estimator__C=100, estimator__gamma=1, estimator__kernel=rbf; total time=   1.2s\n",
      "[CV] END estimator__C=100, estimator__gamma=1, estimator__kernel=rbf; total time=   1.1s\n",
      "[CV] END estimator__C=100, estimator__gamma=0.1, estimator__kernel=rbf; total time=   1.2s\n",
      "[CV] END estimator__C=100, estimator__gamma=0.1, estimator__kernel=rbf; total time=   1.3s\n",
      "[CV] END estimator__C=100, estimator__gamma=0.1, estimator__kernel=rbf; total time=   1.3s\n",
      "[CV] END estimator__C=100, estimator__gamma=0.1, estimator__kernel=rbf; total time=   1.2s\n",
      "[CV] END estimator__C=100, estimator__gamma=0.1, estimator__kernel=rbf; total time=   1.3s\n",
      "[CV] END estimator__C=100, estimator__gamma=0.01, estimator__kernel=rbf; total time=   1.2s\n",
      "[CV] END estimator__C=100, estimator__gamma=0.01, estimator__kernel=rbf; total time=   1.1s\n",
      "[CV] END estimator__C=100, estimator__gamma=0.01, estimator__kernel=rbf; total time=   0.9s\n",
      "[CV] END estimator__C=100, estimator__gamma=0.01, estimator__kernel=rbf; total time=   0.9s\n",
      "[CV] END estimator__C=100, estimator__gamma=0.01, estimator__kernel=rbf; total time=   0.9s\n"
     ]
    },
    {
     "name": "stdout",
     "output_type": "stream",
     "text": [
      "[CV] END estimator__C=100, estimator__gamma=0.001, estimator__kernel=rbf; total time=   0.8s\n",
      "[CV] END estimator__C=100, estimator__gamma=0.001, estimator__kernel=rbf; total time=   0.9s\n",
      "[CV] END estimator__C=100, estimator__gamma=0.001, estimator__kernel=rbf; total time=   0.8s\n",
      "[CV] END estimator__C=100, estimator__gamma=0.001, estimator__kernel=rbf; total time=   0.8s\n",
      "[CV] END estimator__C=100, estimator__gamma=0.001, estimator__kernel=rbf; total time=   0.8s\n",
      "[CV] END estimator__C=100, estimator__gamma=0.0001, estimator__kernel=rbf; total time=   0.8s\n",
      "[CV] END estimator__C=100, estimator__gamma=0.0001, estimator__kernel=rbf; total time=   0.7s\n",
      "[CV] END estimator__C=100, estimator__gamma=0.0001, estimator__kernel=rbf; total time=   0.7s\n",
      "[CV] END estimator__C=100, estimator__gamma=0.0001, estimator__kernel=rbf; total time=   0.6s\n",
      "[CV] END estimator__C=100, estimator__gamma=0.0001, estimator__kernel=rbf; total time=   0.6s\n",
      "[CV] END estimator__C=1000, estimator__gamma=1, estimator__kernel=rbf; total time=   0.9s\n",
      "[CV] END estimator__C=1000, estimator__gamma=1, estimator__kernel=rbf; total time=   1.1s\n",
      "[CV] END estimator__C=1000, estimator__gamma=1, estimator__kernel=rbf; total time=   1.1s\n",
      "[CV] END estimator__C=1000, estimator__gamma=1, estimator__kernel=rbf; total time=   1.0s\n",
      "[CV] END estimator__C=1000, estimator__gamma=1, estimator__kernel=rbf; total time=   0.9s\n",
      "[CV] END estimator__C=1000, estimator__gamma=0.1, estimator__kernel=rbf; total time=   1.5s\n",
      "[CV] END estimator__C=1000, estimator__gamma=0.1, estimator__kernel=rbf; total time=   1.5s\n",
      "[CV] END estimator__C=1000, estimator__gamma=0.1, estimator__kernel=rbf; total time=   1.3s\n",
      "[CV] END estimator__C=1000, estimator__gamma=0.1, estimator__kernel=rbf; total time=   1.5s\n",
      "[CV] END estimator__C=1000, estimator__gamma=0.1, estimator__kernel=rbf; total time=   1.4s\n",
      "[CV] END estimator__C=1000, estimator__gamma=0.01, estimator__kernel=rbf; total time=   2.0s\n",
      "[CV] END estimator__C=1000, estimator__gamma=0.01, estimator__kernel=rbf; total time=   2.2s\n",
      "[CV] END estimator__C=1000, estimator__gamma=0.01, estimator__kernel=rbf; total time=   2.3s\n",
      "[CV] END estimator__C=1000, estimator__gamma=0.01, estimator__kernel=rbf; total time=   2.0s\n",
      "[CV] END estimator__C=1000, estimator__gamma=0.01, estimator__kernel=rbf; total time=   2.2s\n",
      "[CV] END estimator__C=1000, estimator__gamma=0.001, estimator__kernel=rbf; total time=   0.9s\n",
      "[CV] END estimator__C=1000, estimator__gamma=0.001, estimator__kernel=rbf; total time=   0.8s\n",
      "[CV] END estimator__C=1000, estimator__gamma=0.001, estimator__kernel=rbf; total time=   0.8s\n",
      "[CV] END estimator__C=1000, estimator__gamma=0.001, estimator__kernel=rbf; total time=   0.9s\n",
      "[CV] END estimator__C=1000, estimator__gamma=0.001, estimator__kernel=rbf; total time=   0.8s\n",
      "[CV] END estimator__C=1000, estimator__gamma=0.0001, estimator__kernel=rbf; total time=   0.7s\n",
      "[CV] END estimator__C=1000, estimator__gamma=0.0001, estimator__kernel=rbf; total time=   0.7s\n",
      "[CV] END estimator__C=1000, estimator__gamma=0.0001, estimator__kernel=rbf; total time=   0.7s\n",
      "[CV] END estimator__C=1000, estimator__gamma=0.0001, estimator__kernel=rbf; total time=   0.7s\n",
      "[CV] END estimator__C=1000, estimator__gamma=0.0001, estimator__kernel=rbf; total time=   0.8s\n"
     ]
    },
    {
     "data": {
      "text/plain": [
       "GridSearchCV(estimator=MultiOutputClassifier(estimator=SVC(), n_jobs=-1),\n",
       "             param_grid={'estimator__C': [0.1, 1, 10, 100, 1000],\n",
       "                         'estimator__gamma': [1, 0.1, 0.01, 0.001, 0.0001],\n",
       "                         'estimator__kernel': ['rbf']},\n",
       "             verbose=2)"
      ]
     },
     "execution_count": 43,
     "metadata": {},
     "output_type": "execute_result"
    }
   ],
   "source": [
    "#Now we will fit the Model\n",
    "svm_Grid.fit(X_train, y_train)\n"
   ]
  },
  {
   "cell_type": "code",
   "execution_count": 44,
   "id": "195e599f",
   "metadata": {},
   "outputs": [
    {
     "data": {
      "text/plain": [
       "{'estimator__C': 10, 'estimator__gamma': 1, 'estimator__kernel': 'rbf'}"
      ]
     },
     "execution_count": 44,
     "metadata": {},
     "output_type": "execute_result"
    }
   ],
   "source": [
    "svm_Grid.best_params_"
   ]
  },
  {
   "cell_type": "markdown",
   "id": "a00076d9",
   "metadata": {},
   "source": [
    "1) Here we have the Train and Test results before adding the new parameters"
   ]
  },
  {
   "cell_type": "code",
   "execution_count": 45,
   "id": "05ea08a3",
   "metadata": {},
   "outputs": [
    {
     "name": "stdout",
     "output_type": "stream",
     "text": [
      "Train Accuracy - : 0.833\n",
      "Test Accuracy - : 0.808\n"
     ]
    }
   ],
   "source": [
    "print (f'Train Accuracy - : {model.score(X_train,y_train):.3f}')\n",
    "print (f'Test Accuracy - : {model.score(X_test,y_test):.3f}')"
   ]
  },
  {
   "cell_type": "markdown",
   "id": "0a213bee",
   "metadata": {},
   "source": [
    "2) Here we have the Train and Test results after adding the new parameters"
   ]
  },
  {
   "cell_type": "code",
   "execution_count": 46,
   "id": "2a304718",
   "metadata": {},
   "outputs": [
    {
     "name": "stdout",
     "output_type": "stream",
     "text": [
      "Train Accuracy - : 0.998\n",
      "Test Accuracy - : 0.870\n"
     ]
    }
   ],
   "source": [
    "print (f'Train Accuracy - : {svm_Grid.score(X_train,y_train):.3f}')\n",
    "print (f'Test Accuracy - : {svm_Grid.score(X_test,y_test):.3f}')"
   ]
  },
  {
   "cell_type": "markdown",
   "id": "3a51a261",
   "metadata": {},
   "source": []
  },
  {
   "cell_type": "markdown",
   "id": "6ed52432",
   "metadata": {},
   "source": [
    "Here we can see an overall improvement in the accuracy by applying these new parameters"
   ]
  },
  {
   "cell_type": "markdown",
   "id": "4231c17d",
   "metadata": {},
   "source": [
    "### 4.2.b Evaluating feature Importance\n"
   ]
  },
  {
   "cell_type": "code",
   "execution_count": 47,
   "id": "541f8cbc",
   "metadata": {},
   "outputs": [
    {
     "data": {
      "image/png": "[encoded data removed]",
      "text/plain": [
       "<Figure size 1440x432 with 2 Axes>"
      ]
     },
     "metadata": {
      "needs_background": "light"
     },
     "output_type": "display_data"
    }
   ],
   "source": [
    "\n",
    "column_names = []\n",
    "for x in one_hot.columns:\n",
    "    column_names.append(x)\n",
    "\n",
    "#creating confusion matrix as np array\n",
    "cm = confusion_matrix(y_test.argmax(axis=1), y_pred.argmax(axis=1))\n",
    "#setting fig size\n",
    "f = plt.figure(figsize=(20,6))\n",
    "#plot\n",
    "ax = f.add_subplot(121)\n",
    "\n",
    "sn.heatmap(cm, annot=True, fmt='g', ax=ax);  #annot=True to annotate cells, ftm='g' to disable scientific notation\n",
    "\n",
    "# labels, title and ticks\n",
    "ax.set_xlabel('Predicted labels');ax.set_ylabel('True labels'); \n",
    "ax.set_title('Confusion Matrix'); \n",
    "ax.xaxis.set_ticklabels(['Aggressive Style', 'Even Pace Style']); ax.yaxis.set_ticklabels(['Aggressive Style', 'Even Pace Style']);\n",
    "ax.tick_params(axis='both', which='major', labelsize=10)\n"
   ]
  },
  {
   "cell_type": "markdown",
   "id": "aa2b1ec4",
   "metadata": {},
   "source": [
    "### 4.2.c Creating a DF to display the difference between the prediction and the true label"
   ]
  },
  {
   "cell_type": "code",
   "execution_count": 48,
   "id": "876e2d46",
   "metadata": {},
   "outputs": [],
   "source": [
    "datasvm = {'Altitude variation':[0],'Vehicle speed instantaneous':[0],'Vehicle speed average':[0],'Vehicle speed variance':[0],'Vehicle speed variation':[0],'Longitudinal acceleration':[0],'Engine load':[0],'Engine coolant temperature':[0],'Manifold absolute pressure':[0],'Engine rp m':[0],'Mass air flow':[0],'Intake air temperature':[0],'Vertical acceleration':[0],'Fuel consumption average':[0]}\n",
    "ft_accuracy = pd.DataFrame(datasvm)"
   ]
  },
  {
   "cell_type": "code",
   "execution_count": 49,
   "id": "d053e7d3",
   "metadata": {},
   "outputs": [
    {
     "name": "stdout",
     "output_type": "stream",
     "text": [
      "Level of feature importance:\n"
     ]
    },
    {
     "data": {
      "text/html": [
       "<div>\n",
       "<style scoped>\n",
       "    .dataframe tbody tr th:only-of-type {\n",
       "        vertical-align: middle;\n",
       "    }\n",
       "\n",
       "    .dataframe tbody tr th {\n",
       "        vertical-align: top;\n",
       "    }\n",
       "\n",
       "    .dataframe thead th {\n",
       "        text-align: right;\n",
       "    }\n",
       "</style>\n",
       "<table border=\"1\" class=\"dataframe\">\n",
       "  <thead>\n",
       "    <tr style=\"text-align: right;\">\n",
       "      <th></th>\n",
       "      <th>Altitude variation</th>\n",
       "      <th>Vehicle speed instantaneous</th>\n",
       "      <th>Vehicle speed average</th>\n",
       "      <th>Vehicle speed variance</th>\n",
       "      <th>Vehicle speed variation</th>\n",
       "      <th>Longitudinal acceleration</th>\n",
       "      <th>Engine load</th>\n",
       "      <th>Engine coolant temperature</th>\n",
       "      <th>Manifold absolute pressure</th>\n",
       "      <th>Engine rp m</th>\n",
       "      <th>Mass air flow</th>\n",
       "      <th>Intake air temperature</th>\n",
       "      <th>Vertical acceleration</th>\n",
       "      <th>Fuel consumption average</th>\n",
       "    </tr>\n",
       "  </thead>\n",
       "  <tbody>\n",
       "    <tr>\n",
       "      <th>0</th>\n",
       "      <td>8.97%</td>\n",
       "      <td>25.00%</td>\n",
       "      <td>13.59%</td>\n",
       "      <td>12.41%</td>\n",
       "      <td>8.97%</td>\n",
       "      <td>11.59%</td>\n",
       "      <td>9.87%</td>\n",
       "      <td>9.60%</td>\n",
       "      <td>13.22%</td>\n",
       "      <td>12.59%</td>\n",
       "      <td>10.05%</td>\n",
       "      <td>11.41%</td>\n",
       "      <td>9.78%</td>\n",
       "      <td>9.42%</td>\n",
       "    </tr>\n",
       "  </tbody>\n",
       "</table>\n",
       "</div>"
      ],
      "text/plain": [
       "  Altitude variation Vehicle speed instantaneous Vehicle speed average  \\\n",
       "0              8.97%                      25.00%                13.59%   \n",
       "\n",
       "  Vehicle speed variance Vehicle speed variation Longitudinal acceleration  \\\n",
       "0                 12.41%                   8.97%                    11.59%   \n",
       "\n",
       "  Engine load Engine coolant temperature Manifold absolute pressure  \\\n",
       "0       9.87%                      9.60%                     13.22%   \n",
       "\n",
       "  Engine rp m Mass air flow Intake air temperature Vertical acceleration  \\\n",
       "0      12.59%        10.05%                 11.41%                 9.78%   \n",
       "\n",
       "  Fuel consumption average  \n",
       "0                    9.42%  "
      ]
     },
     "execution_count": 49,
     "metadata": {},
     "output_type": "execute_result"
    }
   ],
   "source": [
    "#Creatinga pandas Df from numpy Array\n",
    "X_test_Df = pd.DataFrame(X_test,columns=data)\n",
    "\n",
    "\n",
    "for col in X_test_Df:\n",
    "    #Make a copy of the df so that it is not altered\n",
    "    copy = X_test_Df.copy()\n",
    "    #Permutate the randomization of the values in the column\n",
    "    copy[col] = np.random.permutation(copy[col])\n",
    "    #In the feature accuracy df we will append the result of the standard accuracy score - standard accuracy score after randomizing that column\n",
    "    #The result will be the difference in %\n",
    "    ft_accuracy[col] = \"{:.2%}\".format(std_score - model.score(copy,y_test))\n",
    "    #print(std_score,' - ', model.score(copy,y_test) )\n",
    "\n",
    "\n",
    "print('Level of feature importance:')\n",
    "ft_accuracy"
   ]
  }
 ],
 "metadata": {
  "kernelspec": {
   "display_name": "Python 3 (ipykernel)",
   "language": "python",
   "name": "python3"
  },
  "language_info": {
   "codemirror_mode": {
    "name": "ipython",
    "version": 3
   },
   "file_extension": ".py",
   "mimetype": "text/x-python",
   "name": "python",
   "nbconvert_exporter": "python",
   "pygments_lexer": "ipython3",
   "version": "3.7.11"
  }
 },
 "nbformat": 4,
 "nbformat_minor": 5
}
